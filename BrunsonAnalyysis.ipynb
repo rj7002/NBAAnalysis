{
 "cells": [
  {
   "cell_type": "code",
   "execution_count": 2,
   "metadata": {},
   "outputs": [],
   "source": [
    "import pandas as pd\n",
    "import seaborn as sns\n",
    "import numpy as np\n",
    "import matplotlib.pyplot as plt\n",
    "%matplotlib inline"
   ]
  },
  {
   "cell_type": "code",
   "execution_count": 3,
   "metadata": {},
   "outputs": [
    {
     "name": "stdout",
     "output_type": "stream",
     "text": [
      "Downloading: 100%|\u001b[32m██████████\u001b[0m|\n"
     ]
    }
   ],
   "source": [
    "import pandas as pd\n",
    "from pandas_gbq import read_gbq\n",
    "\n",
    "# Set your Google Cloud project ID\n",
    "project_id = 'noted-processor-428716-i9'\n",
    "\n",
    "# SQL query - adjust based on your needs\n",
    "query = \"\"\"\n",
    "    SELECT *\n",
    "    FROM\n",
    "        `bigquery-public-data.ncaa_basketball.mbb_pbp_sr`  \n",
    "    WHERE event_description LIKE '%Jalen Brunson%'\n",
    "\"\"\"\n",
    "\n",
    "# Query BigQuery and load the results directly into a pandas DataFrame\n",
    "df = read_gbq(query, project_id=project_id)"
   ]
  },
  {
   "cell_type": "code",
   "execution_count": 57,
   "metadata": {},
   "outputs": [],
   "source": [
    "df.to_csv('/Users/ryan/Desktop/SportsAnalytics/JalenBrunson.csv',index=False)"
   ]
  },
  {
   "cell_type": "code",
   "execution_count": 58,
   "metadata": {},
   "outputs": [],
   "source": [
    "df = pd.read_csv('/Users/ryan/Desktop/SportsAnalytics/JalenBrunson.csv')"
   ]
  },
  {
   "cell_type": "code",
   "execution_count": 59,
   "metadata": {},
   "outputs": [
    {
     "data": {
      "text/html": [
       "<div>\n",
       "<style scoped>\n",
       "    .dataframe tbody tr th:only-of-type {\n",
       "        vertical-align: middle;\n",
       "    }\n",
       "\n",
       "    .dataframe tbody tr th {\n",
       "        vertical-align: top;\n",
       "    }\n",
       "\n",
       "    .dataframe thead th {\n",
       "        text-align: right;\n",
       "    }\n",
       "</style>\n",
       "<table border=\"1\" class=\"dataframe\">\n",
       "  <thead>\n",
       "    <tr style=\"text-align: right;\">\n",
       "      <th></th>\n",
       "      <th>Unnamed: 0</th>\n",
       "      <th>game_id</th>\n",
       "      <th>load_timestamp</th>\n",
       "      <th>season</th>\n",
       "      <th>status</th>\n",
       "      <th>scheduled_date</th>\n",
       "      <th>venue_id</th>\n",
       "      <th>venue_name</th>\n",
       "      <th>venue_city</th>\n",
       "      <th>venue_state</th>\n",
       "      <th>...</th>\n",
       "      <th>event_type</th>\n",
       "      <th>type</th>\n",
       "      <th>shot_made</th>\n",
       "      <th>shot_type</th>\n",
       "      <th>shot_subtype</th>\n",
       "      <th>three_point_shot</th>\n",
       "      <th>points_scored</th>\n",
       "      <th>turnover_type</th>\n",
       "      <th>rebound_type</th>\n",
       "      <th>timeout_duration</th>\n",
       "    </tr>\n",
       "  </thead>\n",
       "  <tbody>\n",
       "    <tr>\n",
       "      <th>0</th>\n",
       "      <td>0</td>\n",
       "      <td>d20765db-ba7f-4278-bad6-e1604c9bc0f0</td>\n",
       "      <td>2018-04-01 03:25:00+00:00</td>\n",
       "      <td>2017</td>\n",
       "      <td>closed</td>\n",
       "      <td>2018-04-01 00:49:00+00:00</td>\n",
       "      <td>290e189d-f189-4c81-b4d8-8bf3221d075b</td>\n",
       "      <td>Alamodome</td>\n",
       "      <td>San Antonio</td>\n",
       "      <td>TX</td>\n",
       "      <td>...</td>\n",
       "      <td>offensivefoul</td>\n",
       "      <td>offensivefoul</td>\n",
       "      <td>False</td>\n",
       "      <td>NaN</td>\n",
       "      <td>NaN</td>\n",
       "      <td>False</td>\n",
       "      <td>NaN</td>\n",
       "      <td>NaN</td>\n",
       "      <td>NaN</td>\n",
       "      <td>NaN</td>\n",
       "    </tr>\n",
       "    <tr>\n",
       "      <th>1</th>\n",
       "      <td>1</td>\n",
       "      <td>d20765db-ba7f-4278-bad6-e1604c9bc0f0</td>\n",
       "      <td>2018-04-01 03:25:00+00:00</td>\n",
       "      <td>2017</td>\n",
       "      <td>closed</td>\n",
       "      <td>2018-04-01 00:49:00+00:00</td>\n",
       "      <td>290e189d-f189-4c81-b4d8-8bf3221d075b</td>\n",
       "      <td>Alamodome</td>\n",
       "      <td>San Antonio</td>\n",
       "      <td>TX</td>\n",
       "      <td>...</td>\n",
       "      <td>offensivefoul</td>\n",
       "      <td>personalfoul</td>\n",
       "      <td>False</td>\n",
       "      <td>NaN</td>\n",
       "      <td>NaN</td>\n",
       "      <td>False</td>\n",
       "      <td>NaN</td>\n",
       "      <td>NaN</td>\n",
       "      <td>NaN</td>\n",
       "      <td>NaN</td>\n",
       "    </tr>\n",
       "    <tr>\n",
       "      <th>2</th>\n",
       "      <td>2</td>\n",
       "      <td>d20765db-ba7f-4278-bad6-e1604c9bc0f0</td>\n",
       "      <td>2018-04-01 03:25:00+00:00</td>\n",
       "      <td>2017</td>\n",
       "      <td>closed</td>\n",
       "      <td>2018-04-01 00:49:00+00:00</td>\n",
       "      <td>290e189d-f189-4c81-b4d8-8bf3221d075b</td>\n",
       "      <td>Alamodome</td>\n",
       "      <td>San Antonio</td>\n",
       "      <td>TX</td>\n",
       "      <td>...</td>\n",
       "      <td>offensivefoul</td>\n",
       "      <td>fouldrawn</td>\n",
       "      <td>False</td>\n",
       "      <td>NaN</td>\n",
       "      <td>NaN</td>\n",
       "      <td>False</td>\n",
       "      <td>NaN</td>\n",
       "      <td>NaN</td>\n",
       "      <td>NaN</td>\n",
       "      <td>NaN</td>\n",
       "    </tr>\n",
       "    <tr>\n",
       "      <th>3</th>\n",
       "      <td>3</td>\n",
       "      <td>d20765db-ba7f-4278-bad6-e1604c9bc0f0</td>\n",
       "      <td>2018-04-01 03:25:00+00:00</td>\n",
       "      <td>2017</td>\n",
       "      <td>closed</td>\n",
       "      <td>2018-04-01 00:49:00+00:00</td>\n",
       "      <td>290e189d-f189-4c81-b4d8-8bf3221d075b</td>\n",
       "      <td>Alamodome</td>\n",
       "      <td>San Antonio</td>\n",
       "      <td>TX</td>\n",
       "      <td>...</td>\n",
       "      <td>turnover</td>\n",
       "      <td>steal</td>\n",
       "      <td>False</td>\n",
       "      <td>NaN</td>\n",
       "      <td>NaN</td>\n",
       "      <td>False</td>\n",
       "      <td>NaN</td>\n",
       "      <td>Bad Pass</td>\n",
       "      <td>NaN</td>\n",
       "      <td>NaN</td>\n",
       "    </tr>\n",
       "    <tr>\n",
       "      <th>4</th>\n",
       "      <td>4</td>\n",
       "      <td>d20765db-ba7f-4278-bad6-e1604c9bc0f0</td>\n",
       "      <td>2018-04-01 03:25:00+00:00</td>\n",
       "      <td>2017</td>\n",
       "      <td>closed</td>\n",
       "      <td>2018-04-01 00:49:00+00:00</td>\n",
       "      <td>290e189d-f189-4c81-b4d8-8bf3221d075b</td>\n",
       "      <td>Alamodome</td>\n",
       "      <td>San Antonio</td>\n",
       "      <td>TX</td>\n",
       "      <td>...</td>\n",
       "      <td>turnover</td>\n",
       "      <td>turnover</td>\n",
       "      <td>False</td>\n",
       "      <td>NaN</td>\n",
       "      <td>NaN</td>\n",
       "      <td>False</td>\n",
       "      <td>NaN</td>\n",
       "      <td>Bad Pass</td>\n",
       "      <td>NaN</td>\n",
       "      <td>NaN</td>\n",
       "    </tr>\n",
       "  </tbody>\n",
       "</table>\n",
       "<p>5 rows × 72 columns</p>\n",
       "</div>"
      ],
      "text/plain": [
       "   Unnamed: 0                               game_id  \\\n",
       "0           0  d20765db-ba7f-4278-bad6-e1604c9bc0f0   \n",
       "1           1  d20765db-ba7f-4278-bad6-e1604c9bc0f0   \n",
       "2           2  d20765db-ba7f-4278-bad6-e1604c9bc0f0   \n",
       "3           3  d20765db-ba7f-4278-bad6-e1604c9bc0f0   \n",
       "4           4  d20765db-ba7f-4278-bad6-e1604c9bc0f0   \n",
       "\n",
       "              load_timestamp  season  status             scheduled_date  \\\n",
       "0  2018-04-01 03:25:00+00:00    2017  closed  2018-04-01 00:49:00+00:00   \n",
       "1  2018-04-01 03:25:00+00:00    2017  closed  2018-04-01 00:49:00+00:00   \n",
       "2  2018-04-01 03:25:00+00:00    2017  closed  2018-04-01 00:49:00+00:00   \n",
       "3  2018-04-01 03:25:00+00:00    2017  closed  2018-04-01 00:49:00+00:00   \n",
       "4  2018-04-01 03:25:00+00:00    2017  closed  2018-04-01 00:49:00+00:00   \n",
       "\n",
       "                               venue_id venue_name   venue_city venue_state  \\\n",
       "0  290e189d-f189-4c81-b4d8-8bf3221d075b  Alamodome  San Antonio          TX   \n",
       "1  290e189d-f189-4c81-b4d8-8bf3221d075b  Alamodome  San Antonio          TX   \n",
       "2  290e189d-f189-4c81-b4d8-8bf3221d075b  Alamodome  San Antonio          TX   \n",
       "3  290e189d-f189-4c81-b4d8-8bf3221d075b  Alamodome  San Antonio          TX   \n",
       "4  290e189d-f189-4c81-b4d8-8bf3221d075b  Alamodome  San Antonio          TX   \n",
       "\n",
       "   ...     event_type           type shot_made  shot_type  shot_subtype  \\\n",
       "0  ...  offensivefoul  offensivefoul     False        NaN           NaN   \n",
       "1  ...  offensivefoul   personalfoul     False        NaN           NaN   \n",
       "2  ...  offensivefoul      fouldrawn     False        NaN           NaN   \n",
       "3  ...       turnover          steal     False        NaN           NaN   \n",
       "4  ...       turnover       turnover     False        NaN           NaN   \n",
       "\n",
       "  three_point_shot points_scored turnover_type rebound_type timeout_duration  \n",
       "0            False           NaN           NaN          NaN              NaN  \n",
       "1            False           NaN           NaN          NaN              NaN  \n",
       "2            False           NaN           NaN          NaN              NaN  \n",
       "3            False           NaN      Bad Pass          NaN              NaN  \n",
       "4            False           NaN      Bad Pass          NaN              NaN  \n",
       "\n",
       "[5 rows x 72 columns]"
      ]
     },
     "execution_count": 59,
     "metadata": {},
     "output_type": "execute_result"
    }
   ],
   "source": [
    "df.head()"
   ]
  },
  {
   "cell_type": "code",
   "execution_count": 60,
   "metadata": {},
   "outputs": [
    {
     "data": {
      "text/plain": [
       "Index(['Unnamed: 0', 'game_id', 'load_timestamp', 'season', 'status',\n",
       "       'scheduled_date', 'venue_id', 'venue_name', 'venue_city', 'venue_state',\n",
       "       'venue_address', 'venue_zip', 'venue_country', 'venue_capacity',\n",
       "       'attendance', 'neutral_site', 'conference_game', 'tournament',\n",
       "       'tournament_type', 'round', 'game_no', 'away_market', 'away_name',\n",
       "       'away_id', 'away_alias', 'away_conf_name', 'away_conf_alias',\n",
       "       'away_division_name', 'away_division_alias', 'away_league_name',\n",
       "       'home_market', 'home_name', 'home_id', 'home_alias', 'home_conf_name',\n",
       "       'home_conf_alias', 'home_division_name', 'home_division_alias',\n",
       "       'home_league_name', 'period', 'game_clock', 'elapsed_time_sec',\n",
       "       'possession_arrow', 'team_name', 'team_market', 'team_id', 'team_alias',\n",
       "       'team_conf_name', 'team_conf_alias', 'team_division_name',\n",
       "       'team_division_alias', 'team_league_name', 'team_basket',\n",
       "       'possession_team_id', 'player_id', 'player_full_name', 'jersey_num',\n",
       "       'event_id', 'timestamp', 'event_description', 'event_coord_x',\n",
       "       'event_coord_y', 'event_type', 'type', 'shot_made', 'shot_type',\n",
       "       'shot_subtype', 'three_point_shot', 'points_scored', 'turnover_type',\n",
       "       'rebound_type', 'timeout_duration'],\n",
       "      dtype='object')"
      ]
     },
     "execution_count": 60,
     "metadata": {},
     "output_type": "execute_result"
    }
   ],
   "source": [
    "df.columns"
   ]
  },
  {
   "cell_type": "code",
   "execution_count": 61,
   "metadata": {},
   "outputs": [
    {
     "data": {
      "text/plain": [
       "(5097, 72)"
      ]
     },
     "execution_count": 61,
     "metadata": {},
     "output_type": "execute_result"
    }
   ],
   "source": [
    "df.shape"
   ]
  },
  {
   "cell_type": "code",
   "execution_count": 62,
   "metadata": {},
   "outputs": [
    {
     "data": {
      "text/html": [
       "<div>\n",
       "<style scoped>\n",
       "    .dataframe tbody tr th:only-of-type {\n",
       "        vertical-align: middle;\n",
       "    }\n",
       "\n",
       "    .dataframe tbody tr th {\n",
       "        vertical-align: top;\n",
       "    }\n",
       "\n",
       "    .dataframe thead th {\n",
       "        text-align: right;\n",
       "    }\n",
       "</style>\n",
       "<table border=\"1\" class=\"dataframe\">\n",
       "  <thead>\n",
       "    <tr style=\"text-align: right;\">\n",
       "      <th></th>\n",
       "      <th>Unnamed: 0</th>\n",
       "      <th>season</th>\n",
       "      <th>venue_zip</th>\n",
       "      <th>venue_capacity</th>\n",
       "      <th>attendance</th>\n",
       "      <th>period</th>\n",
       "      <th>elapsed_time_sec</th>\n",
       "      <th>jersey_num</th>\n",
       "      <th>event_coord_x</th>\n",
       "      <th>event_coord_y</th>\n",
       "      <th>points_scored</th>\n",
       "      <th>timeout_duration</th>\n",
       "    </tr>\n",
       "  </thead>\n",
       "  <tbody>\n",
       "    <tr>\n",
       "      <th>count</th>\n",
       "      <td>5097.000000</td>\n",
       "      <td>5097.000000</td>\n",
       "      <td>4885.000000</td>\n",
       "      <td>3049.000000</td>\n",
       "      <td>4961.000000</td>\n",
       "      <td>5097.000000</td>\n",
       "      <td>5097.000000</td>\n",
       "      <td>4468.000000</td>\n",
       "      <td>5083.000000</td>\n",
       "      <td>5083.000000</td>\n",
       "      <td>1333.000000</td>\n",
       "      <td>0.0</td>\n",
       "    </tr>\n",
       "    <tr>\n",
       "      <th>mean</th>\n",
       "      <td>2548.000000</td>\n",
       "      <td>2016.345105</td>\n",
       "      <td>24509.360491</td>\n",
       "      <td>16041.595605</td>\n",
       "      <td>13917.697238</td>\n",
       "      <td>1.534040</td>\n",
       "      <td>1239.537767</td>\n",
       "      <td>4.225604</td>\n",
       "      <td>477.773362</td>\n",
       "      <td>241.243557</td>\n",
       "      <td>2.057764</td>\n",
       "      <td>NaN</td>\n",
       "    </tr>\n",
       "    <tr>\n",
       "      <th>std</th>\n",
       "      <td>1471.521492</td>\n",
       "      <td>0.796376</td>\n",
       "      <td>19569.415899</td>\n",
       "      <td>9832.397095</td>\n",
       "      <td>11860.547673</td>\n",
       "      <td>0.512854</td>\n",
       "      <td>702.109478</td>\n",
       "      <td>8.214968</td>\n",
       "      <td>410.965210</td>\n",
       "      <td>152.782813</td>\n",
       "      <td>0.743618</td>\n",
       "      <td>NaN</td>\n",
       "    </tr>\n",
       "    <tr>\n",
       "      <th>min</th>\n",
       "      <td>0.000000</td>\n",
       "      <td>2015.000000</td>\n",
       "      <td>2114.000000</td>\n",
       "      <td>4200.000000</td>\n",
       "      <td>892.000000</td>\n",
       "      <td>1.000000</td>\n",
       "      <td>0.000000</td>\n",
       "      <td>0.000000</td>\n",
       "      <td>0.000000</td>\n",
       "      <td>0.000000</td>\n",
       "      <td>1.000000</td>\n",
       "      <td>NaN</td>\n",
       "    </tr>\n",
       "    <tr>\n",
       "      <th>25%</th>\n",
       "      <td>1274.000000</td>\n",
       "      <td>2016.000000</td>\n",
       "      <td>11553.000000</td>\n",
       "      <td>6500.000000</td>\n",
       "      <td>6500.000000</td>\n",
       "      <td>1.000000</td>\n",
       "      <td>642.000000</td>\n",
       "      <td>1.000000</td>\n",
       "      <td>91.000000</td>\n",
       "      <td>121.500000</td>\n",
       "      <td>2.000000</td>\n",
       "      <td>NaN</td>\n",
       "    </tr>\n",
       "    <tr>\n",
       "      <th>50%</th>\n",
       "      <td>2548.000000</td>\n",
       "      <td>2017.000000</td>\n",
       "      <td>19121.000000</td>\n",
       "      <td>18624.000000</td>\n",
       "      <td>11905.000000</td>\n",
       "      <td>2.000000</td>\n",
       "      <td>1259.000000</td>\n",
       "      <td>1.000000</td>\n",
       "      <td>297.000000</td>\n",
       "      <td>280.000000</td>\n",
       "      <td>2.000000</td>\n",
       "      <td>NaN</td>\n",
       "    </tr>\n",
       "    <tr>\n",
       "      <th>75%</th>\n",
       "      <td>3822.000000</td>\n",
       "      <td>2017.000000</td>\n",
       "      <td>20004.000000</td>\n",
       "      <td>19812.000000</td>\n",
       "      <td>18321.000000</td>\n",
       "      <td>2.000000</td>\n",
       "      <td>1825.000000</td>\n",
       "      <td>2.000000</td>\n",
       "      <td>903.000000</td>\n",
       "      <td>325.000000</td>\n",
       "      <td>3.000000</td>\n",
       "      <td>NaN</td>\n",
       "    </tr>\n",
       "    <tr>\n",
       "      <th>max</th>\n",
       "      <td>5096.000000</td>\n",
       "      <td>2017.000000</td>\n",
       "      <td>96860.000000</td>\n",
       "      <td>71054.000000</td>\n",
       "      <td>75505.000000</td>\n",
       "      <td>3.000000</td>\n",
       "      <td>2699.000000</td>\n",
       "      <td>55.000000</td>\n",
       "      <td>1128.000000</td>\n",
       "      <td>600.000000</td>\n",
       "      <td>3.000000</td>\n",
       "      <td>NaN</td>\n",
       "    </tr>\n",
       "  </tbody>\n",
       "</table>\n",
       "</div>"
      ],
      "text/plain": [
       "        Unnamed: 0       season     venue_zip  venue_capacity    attendance  \\\n",
       "count  5097.000000  5097.000000   4885.000000     3049.000000   4961.000000   \n",
       "mean   2548.000000  2016.345105  24509.360491    16041.595605  13917.697238   \n",
       "std    1471.521492     0.796376  19569.415899     9832.397095  11860.547673   \n",
       "min       0.000000  2015.000000   2114.000000     4200.000000    892.000000   \n",
       "25%    1274.000000  2016.000000  11553.000000     6500.000000   6500.000000   \n",
       "50%    2548.000000  2017.000000  19121.000000    18624.000000  11905.000000   \n",
       "75%    3822.000000  2017.000000  20004.000000    19812.000000  18321.000000   \n",
       "max    5096.000000  2017.000000  96860.000000    71054.000000  75505.000000   \n",
       "\n",
       "            period  elapsed_time_sec   jersey_num  event_coord_x  \\\n",
       "count  5097.000000       5097.000000  4468.000000    5083.000000   \n",
       "mean      1.534040       1239.537767     4.225604     477.773362   \n",
       "std       0.512854        702.109478     8.214968     410.965210   \n",
       "min       1.000000          0.000000     0.000000       0.000000   \n",
       "25%       1.000000        642.000000     1.000000      91.000000   \n",
       "50%       2.000000       1259.000000     1.000000     297.000000   \n",
       "75%       2.000000       1825.000000     2.000000     903.000000   \n",
       "max       3.000000       2699.000000    55.000000    1128.000000   \n",
       "\n",
       "       event_coord_y  points_scored  timeout_duration  \n",
       "count    5083.000000    1333.000000               0.0  \n",
       "mean      241.243557       2.057764               NaN  \n",
       "std       152.782813       0.743618               NaN  \n",
       "min         0.000000       1.000000               NaN  \n",
       "25%       121.500000       2.000000               NaN  \n",
       "50%       280.000000       2.000000               NaN  \n",
       "75%       325.000000       3.000000               NaN  \n",
       "max       600.000000       3.000000               NaN  "
      ]
     },
     "execution_count": 62,
     "metadata": {},
     "output_type": "execute_result"
    }
   ],
   "source": [
    "df.describe()"
   ]
  },
  {
   "cell_type": "code",
   "execution_count": 63,
   "metadata": {},
   "outputs": [
    {
     "data": {
      "text/html": [
       "<div>\n",
       "<style scoped>\n",
       "    .dataframe tbody tr th:only-of-type {\n",
       "        vertical-align: middle;\n",
       "    }\n",
       "\n",
       "    .dataframe tbody tr th {\n",
       "        vertical-align: top;\n",
       "    }\n",
       "\n",
       "    .dataframe thead th {\n",
       "        text-align: right;\n",
       "    }\n",
       "</style>\n",
       "<table border=\"1\" class=\"dataframe\">\n",
       "  <thead>\n",
       "    <tr style=\"text-align: right;\">\n",
       "      <th></th>\n",
       "      <th>index</th>\n",
       "      <th>0</th>\n",
       "    </tr>\n",
       "  </thead>\n",
       "  <tbody>\n",
       "    <tr>\n",
       "      <th>71</th>\n",
       "      <td>timeout_duration</td>\n",
       "      <td>5097</td>\n",
       "    </tr>\n",
       "    <tr>\n",
       "      <th>70</th>\n",
       "      <td>rebound_type</td>\n",
       "      <td>4815</td>\n",
       "    </tr>\n",
       "    <tr>\n",
       "      <th>66</th>\n",
       "      <td>shot_subtype</td>\n",
       "      <td>4788</td>\n",
       "    </tr>\n",
       "    <tr>\n",
       "      <th>69</th>\n",
       "      <td>turnover_type</td>\n",
       "      <td>4658</td>\n",
       "    </tr>\n",
       "    <tr>\n",
       "      <th>20</th>\n",
       "      <td>game_no</td>\n",
       "      <td>4524</td>\n",
       "    </tr>\n",
       "    <tr>\n",
       "      <th>19</th>\n",
       "      <td>round</td>\n",
       "      <td>4210</td>\n",
       "    </tr>\n",
       "    <tr>\n",
       "      <th>18</th>\n",
       "      <td>tournament_type</td>\n",
       "      <td>4130</td>\n",
       "    </tr>\n",
       "    <tr>\n",
       "      <th>17</th>\n",
       "      <td>tournament</td>\n",
       "      <td>4130</td>\n",
       "    </tr>\n",
       "    <tr>\n",
       "      <th>68</th>\n",
       "      <td>points_scored</td>\n",
       "      <td>3764</td>\n",
       "    </tr>\n",
       "    <tr>\n",
       "      <th>65</th>\n",
       "      <td>shot_type</td>\n",
       "      <td>3547</td>\n",
       "    </tr>\n",
       "    <tr>\n",
       "      <th>13</th>\n",
       "      <td>venue_capacity</td>\n",
       "      <td>2048</td>\n",
       "    </tr>\n",
       "    <tr>\n",
       "      <th>53</th>\n",
       "      <td>possession_team_id</td>\n",
       "      <td>1540</td>\n",
       "    </tr>\n",
       "    <tr>\n",
       "      <th>15</th>\n",
       "      <td>neutral_site</td>\n",
       "      <td>993</td>\n",
       "    </tr>\n",
       "    <tr>\n",
       "      <th>16</th>\n",
       "      <td>conference_game</td>\n",
       "      <td>993</td>\n",
       "    </tr>\n",
       "    <tr>\n",
       "      <th>63</th>\n",
       "      <td>type</td>\n",
       "      <td>861</td>\n",
       "    </tr>\n",
       "    <tr>\n",
       "      <th>54</th>\n",
       "      <td>player_id</td>\n",
       "      <td>861</td>\n",
       "    </tr>\n",
       "    <tr>\n",
       "      <th>55</th>\n",
       "      <td>player_full_name</td>\n",
       "      <td>861</td>\n",
       "    </tr>\n",
       "    <tr>\n",
       "      <th>44</th>\n",
       "      <td>team_market</td>\n",
       "      <td>629</td>\n",
       "    </tr>\n",
       "    <tr>\n",
       "      <th>56</th>\n",
       "      <td>jersey_num</td>\n",
       "      <td>629</td>\n",
       "    </tr>\n",
       "    <tr>\n",
       "      <th>50</th>\n",
       "      <td>team_division_alias</td>\n",
       "      <td>629</td>\n",
       "    </tr>\n",
       "    <tr>\n",
       "      <th>49</th>\n",
       "      <td>team_division_name</td>\n",
       "      <td>629</td>\n",
       "    </tr>\n",
       "    <tr>\n",
       "      <th>48</th>\n",
       "      <td>team_conf_alias</td>\n",
       "      <td>629</td>\n",
       "    </tr>\n",
       "    <tr>\n",
       "      <th>46</th>\n",
       "      <td>team_alias</td>\n",
       "      <td>629</td>\n",
       "    </tr>\n",
       "    <tr>\n",
       "      <th>47</th>\n",
       "      <td>team_conf_name</td>\n",
       "      <td>629</td>\n",
       "    </tr>\n",
       "    <tr>\n",
       "      <th>45</th>\n",
       "      <td>team_id</td>\n",
       "      <td>629</td>\n",
       "    </tr>\n",
       "    <tr>\n",
       "      <th>51</th>\n",
       "      <td>team_league_name</td>\n",
       "      <td>629</td>\n",
       "    </tr>\n",
       "    <tr>\n",
       "      <th>43</th>\n",
       "      <td>team_name</td>\n",
       "      <td>629</td>\n",
       "    </tr>\n",
       "    <tr>\n",
       "      <th>11</th>\n",
       "      <td>venue_zip</td>\n",
       "      <td>212</td>\n",
       "    </tr>\n",
       "    <tr>\n",
       "      <th>9</th>\n",
       "      <td>venue_state</td>\n",
       "      <td>212</td>\n",
       "    </tr>\n",
       "    <tr>\n",
       "      <th>14</th>\n",
       "      <td>attendance</td>\n",
       "      <td>136</td>\n",
       "    </tr>\n",
       "    <tr>\n",
       "      <th>10</th>\n",
       "      <td>venue_address</td>\n",
       "      <td>54</td>\n",
       "    </tr>\n",
       "    <tr>\n",
       "      <th>60</th>\n",
       "      <td>event_coord_x</td>\n",
       "      <td>14</td>\n",
       "    </tr>\n",
       "    <tr>\n",
       "      <th>61</th>\n",
       "      <td>event_coord_y</td>\n",
       "      <td>14</td>\n",
       "    </tr>\n",
       "  </tbody>\n",
       "</table>\n",
       "</div>"
      ],
      "text/plain": [
       "                  index     0\n",
       "71     timeout_duration  5097\n",
       "70         rebound_type  4815\n",
       "66         shot_subtype  4788\n",
       "69        turnover_type  4658\n",
       "20              game_no  4524\n",
       "19                round  4210\n",
       "18      tournament_type  4130\n",
       "17           tournament  4130\n",
       "68        points_scored  3764\n",
       "65            shot_type  3547\n",
       "13       venue_capacity  2048\n",
       "53   possession_team_id  1540\n",
       "15         neutral_site   993\n",
       "16      conference_game   993\n",
       "63                 type   861\n",
       "54            player_id   861\n",
       "55     player_full_name   861\n",
       "44          team_market   629\n",
       "56           jersey_num   629\n",
       "50  team_division_alias   629\n",
       "49   team_division_name   629\n",
       "48      team_conf_alias   629\n",
       "46           team_alias   629\n",
       "47       team_conf_name   629\n",
       "45              team_id   629\n",
       "51     team_league_name   629\n",
       "43            team_name   629\n",
       "11            venue_zip   212\n",
       "9           venue_state   212\n",
       "14           attendance   136\n",
       "10        venue_address    54\n",
       "60        event_coord_x    14\n",
       "61        event_coord_y    14"
      ]
     },
     "execution_count": 63,
     "metadata": {},
     "output_type": "execute_result"
    }
   ],
   "source": [
    "df.isna().sum().reset_index().sort_values(by=0,ascending=False).head(33)"
   ]
  },
  {
   "cell_type": "code",
   "execution_count": 64,
   "metadata": {},
   "outputs": [
    {
     "data": {
      "text/plain": [
       "array(['offensivefoul', 'turnover', 'shootingfoul', 'personalfoul',\n",
       "       'rebound', 'twopointmiss', 'threepointmiss', 'freethrowmiss',\n",
       "       'assist', 'lineupchange', 'twopointmade', 'freethrowmade',\n",
       "       'threepointmade', 'attemptblocked', 'block', 'opentip', 'jumpball',\n",
       "       'kickball'], dtype=object)"
      ]
     },
     "execution_count": 64,
     "metadata": {},
     "output_type": "execute_result"
    }
   ],
   "source": [
    "df['event_type'].unique()"
   ]
  },
  {
   "cell_type": "code",
   "execution_count": 65,
   "metadata": {},
   "outputs": [
    {
     "data": {
      "text/plain": [
       "312"
      ]
     },
     "execution_count": 65,
     "metadata": {},
     "output_type": "execute_result"
    }
   ],
   "source": [
    "df['player_full_name'].nunique()"
   ]
  },
  {
   "cell_type": "code",
   "execution_count": 66,
   "metadata": {},
   "outputs": [
    {
     "data": {
      "text/plain": [
       "115"
      ]
     },
     "execution_count": 66,
     "metadata": {},
     "output_type": "execute_result"
    }
   ],
   "source": [
    "df['game_id'].nunique()"
   ]
  },
  {
   "cell_type": "code",
   "execution_count": 67,
   "metadata": {},
   "outputs": [
    {
     "data": {
      "text/plain": [
       "<Axes: xlabel='attendance', ylabel='Count'>"
      ]
     },
     "execution_count": 67,
     "metadata": {},
     "output_type": "execute_result"
    },
    {
     "data": {
      "image/png": "[encoded data removed]",
      "text/plain": [
       "<Figure size 640x480 with 1 Axes>"
      ]
     },
     "metadata": {},
     "output_type": "display_data"
    }
   ],
   "source": [
    "sns.histplot(x='attendance',data=df) "
   ]
  },
  {
   "cell_type": "code",
   "execution_count": 68,
   "metadata": {},
   "outputs": [
    {
     "data": {
      "text/plain": [
       "75505.0"
      ]
     },
     "execution_count": 68,
     "metadata": {},
     "output_type": "execute_result"
    }
   ],
   "source": [
    "df['attendance'].max()"
   ]
  },
  {
   "cell_type": "code",
   "execution_count": 69,
   "metadata": {},
   "outputs": [
    {
     "data": {
      "text/plain": [
       "13917.697238459989"
      ]
     },
     "execution_count": 69,
     "metadata": {},
     "output_type": "execute_result"
    }
   ],
   "source": [
    "df['attendance'].mean()"
   ]
  },
  {
   "cell_type": "code",
   "execution_count": 70,
   "metadata": {},
   "outputs": [
    {
     "data": {
      "text/html": [
       "<div>\n",
       "<style scoped>\n",
       "    .dataframe tbody tr th:only-of-type {\n",
       "        vertical-align: middle;\n",
       "    }\n",
       "\n",
       "    .dataframe tbody tr th {\n",
       "        vertical-align: top;\n",
       "    }\n",
       "\n",
       "    .dataframe thead th {\n",
       "        text-align: right;\n",
       "    }\n",
       "</style>\n",
       "<table border=\"1\" class=\"dataframe\">\n",
       "  <thead>\n",
       "    <tr style=\"text-align: right;\">\n",
       "      <th></th>\n",
       "      <th>venue_country</th>\n",
       "      <th>venue_city</th>\n",
       "    </tr>\n",
       "  </thead>\n",
       "  <tbody>\n",
       "    <tr>\n",
       "      <th>148</th>\n",
       "      <td>BHS</td>\n",
       "      <td>Nassau</td>\n",
       "    </tr>\n",
       "  </tbody>\n",
       "</table>\n",
       "</div>"
      ],
      "text/plain": [
       "    venue_country venue_city\n",
       "148           BHS     Nassau"
      ]
     },
     "execution_count": 70,
     "metadata": {},
     "output_type": "execute_result"
    }
   ],
   "source": [
    "df[df['attendance'] == df['attendance'].min()][['venue_country','venue_city']].head(1)"
   ]
  },
  {
   "cell_type": "code",
   "execution_count": 83,
   "metadata": {},
   "outputs": [],
   "source": [
    "import matplotlib.pyplot as plt\n",
    "from matplotlib.patches import Circle, Rectangle, Arc\n",
    "\n",
    "def draw_court(ax=None, color='black', lw=2):\n",
    "    # If an axes object isn't provided to plot onto, just get current one\n",
    "    if ax is None:\n",
    "        ax = plt.gca()\n",
    "\n",
    "    # Create the various parts of an NBA basketball court\n",
    "    hoop = Circle((300, 55.5), radius=7.5, linewidth=lw, color=color, fill=False)\n",
    "    backboard = Rectangle((264, 48), 72, -1, linewidth=lw, color=color)\n",
    "    inner_box = Rectangle((228, 0), 144, 228, linewidth=lw, color=color, fill=False)\n",
    "    top_free_throw = Arc((300, 228), 144, 144, theta1=0, theta2=180, linewidth=lw, color=color, fill=False)\n",
    "    restricted = Arc((300, 55.5), 72, 72, theta1=0, theta2=180, linewidth=lw, color=color, linestyle='dashed')\n",
    "    corner_three_a = Rectangle((51, 0), 0, 55.5, linewidth=lw, color=color)\n",
    "    corner_three_b = Rectangle((549, 0), 0, 55.5, linewidth=lw, color=color)\n",
    "    three_arc = Arc((300, 55.5), 498, 498, theta1=0, theta2=180, linewidth=lw, color=color)\n",
    "    center_outer_arc = Arc((300, 564), 144, 144, theta1=180, theta2=0, linewidth=lw, color=color)\n",
    "    center_inner_arc = Arc((300, 564), 48, 48, theta1=180, theta2=0, linewidth=lw, color=color)\n",
    "\n",
    "    # List of the court elements to be plotted onto the axes\n",
    "    court_elements = [hoop, backboard, inner_box, top_free_throw, restricted, corner_three_a, corner_three_b, three_arc, center_outer_arc, center_inner_arc]\n",
    "\n",
    "    # Add the court elements onto the axes\n",
    "    for element in court_elements:\n",
    "        ax.add_patch(element)\n",
    "\n",
    "    # Adjust axes limits to fit the court within view\n",
    "    ax.set_xlim(0, 600)  # Adjust based on your court's size\n",
    "    ax.set_ylim(0, 1128/2)  # Adjust based on your court's size\n",
    "    ax.set_aspect('equal')  # Maintain aspect ratio of the court\n",
    "    ax.axis('off')  # Hide axis ticks and labels\n",
    "\n",
    "    # Debugging: print out limits to check if elements are within bounds\n",
    "    print(\"X limits:\", ax.get_xlim())\n",
    "    print(\"Y limits:\", ax.get_ylim())\n",
    "\n",
    "    return ax"
   ]
  },
  {
   "cell_type": "code",
   "execution_count": 85,
   "metadata": {},
   "outputs": [],
   "source": [
    "df.loc[df['team_basket'] == \"right\",\"event_coord_x\"] = abs(1128-df[\"event_coord_x\"])\n",
    "df.loc[df['team_basket'] == \"right\",\"event_coord_y\"] = abs(600-df[\"event_coord_y\"])\n"
   ]
  },
  {
   "cell_type": "code",
   "execution_count": 90,
   "metadata": {},
   "outputs": [
    {
     "name": "stdout",
     "output_type": "stream",
     "text": [
      "X limits: (0.0, 600.0)\n",
      "Y limits: (0.0, 564.0)\n"
     ]
    },
    {
     "data": {
      "image/png": "[encoded data removed]",
      "text/plain": [
       "<Figure size 1000x800 with 1 Axes>"
      ]
     },
     "metadata": {},
     "output_type": "display_data"
    }
   ],
   "source": [
    "fig, ax = plt.subplots(figsize=(10, 8))\n",
    "ax.scatter(df['event_coord_y'], df['event_coord_x'], color='red', zorder=5)  # Plot the points in red color\n",
    "draw_court(ax)\n",
    "plt.show()"
   ]
  },
  {
   "cell_type": "code",
   "execution_count": 94,
   "metadata": {},
   "outputs": [],
   "source": [
    "assistdf = df[df['event_description'].str.contains('Jalen Brunson assists')]"
   ]
  },
  {
   "cell_type": "code",
   "execution_count": 98,
   "metadata": {},
   "outputs": [
    {
     "data": {
      "text/plain": [
       "(854, 72)"
      ]
     },
     "execution_count": 98,
     "metadata": {},
     "output_type": "execute_result"
    }
   ],
   "source": [
    "assistdf.shape"
   ]
  },
  {
   "cell_type": "code",
   "execution_count": 110,
   "metadata": {},
   "outputs": [
    {
     "data": {
      "text/html": [
       "<div>\n",
       "<style scoped>\n",
       "    .dataframe tbody tr th:only-of-type {\n",
       "        vertical-align: middle;\n",
       "    }\n",
       "\n",
       "    .dataframe tbody tr th {\n",
       "        vertical-align: top;\n",
       "    }\n",
       "\n",
       "    .dataframe thead th {\n",
       "        text-align: right;\n",
       "    }\n",
       "</style>\n",
       "<table border=\"1\" class=\"dataframe\">\n",
       "  <thead>\n",
       "    <tr style=\"text-align: right;\">\n",
       "      <th></th>\n",
       "      <th>player_full_name</th>\n",
       "      <th>event_description</th>\n",
       "      <th>shot_type</th>\n",
       "      <th>shot_subtype</th>\n",
       "    </tr>\n",
       "  </thead>\n",
       "  <tbody>\n",
       "    <tr>\n",
       "      <th>36</th>\n",
       "      <td>Jalen Brunson</td>\n",
       "      <td>Omari Spellman makes two point dunk (Jalen Brunson assists)</td>\n",
       "      <td>NaN</td>\n",
       "      <td>NaN</td>\n",
       "    </tr>\n",
       "    <tr>\n",
       "      <th>39</th>\n",
       "      <td>Jalen Brunson</td>\n",
       "      <td>Mikal Bridges makes two point reverse layup (Jalen Brunson assists)</td>\n",
       "      <td>NaN</td>\n",
       "      <td>NaN</td>\n",
       "    </tr>\n",
       "    <tr>\n",
       "      <th>54</th>\n",
       "      <td>Omari Spellman</td>\n",
       "      <td>Omari Spellman makes two point dunk (Jalen Brunson assists)</td>\n",
       "      <td>dunk</td>\n",
       "      <td>NaN</td>\n",
       "    </tr>\n",
       "    <tr>\n",
       "      <th>55</th>\n",
       "      <td>Mikal Bridges</td>\n",
       "      <td>Mikal Bridges makes two point reverse layup (Jalen Brunson assists)</td>\n",
       "      <td>layup</td>\n",
       "      <td>reverse</td>\n",
       "    </tr>\n",
       "    <tr>\n",
       "      <th>67</th>\n",
       "      <td>Jalen Brunson</td>\n",
       "      <td>Eric Paschall makes three point jump shot (Jalen Brunson assists)</td>\n",
       "      <td>NaN</td>\n",
       "      <td>NaN</td>\n",
       "    </tr>\n",
       "  </tbody>\n",
       "</table>\n",
       "</div>"
      ],
      "text/plain": [
       "   player_full_name  \\\n",
       "36    Jalen Brunson   \n",
       "39    Jalen Brunson   \n",
       "54   Omari Spellman   \n",
       "55    Mikal Bridges   \n",
       "67    Jalen Brunson   \n",
       "\n",
       "                                                      event_description  \\\n",
       "36          Omari Spellman makes two point dunk (Jalen Brunson assists)   \n",
       "39  Mikal Bridges makes two point reverse layup (Jalen Brunson assists)   \n",
       "54          Omari Spellman makes two point dunk (Jalen Brunson assists)   \n",
       "55  Mikal Bridges makes two point reverse layup (Jalen Brunson assists)   \n",
       "67    Eric Paschall makes three point jump shot (Jalen Brunson assists)   \n",
       "\n",
       "   shot_type shot_subtype  \n",
       "36       NaN          NaN  \n",
       "39       NaN          NaN  \n",
       "54      dunk          NaN  \n",
       "55     layup      reverse  \n",
       "67       NaN          NaN  "
      ]
     },
     "execution_count": 110,
     "metadata": {},
     "output_type": "execute_result"
    }
   ],
   "source": [
    "pd.set_option('display.max_colwidth', None)  \n",
    "\n",
    "assistdf[['player_full_name','event_description','shot_type','shot_subtype']].head()"
   ]
  },
  {
   "cell_type": "code",
   "execution_count": 113,
   "metadata": {},
   "outputs": [
    {
     "data": {
      "text/plain": [
       "array([nan, 'dunk', 'layup', 'jump shot', 'hook shot'], dtype=object)"
      ]
     },
     "execution_count": 113,
     "metadata": {},
     "output_type": "execute_result"
    }
   ],
   "source": [
    "assistdf['shot_type'].unique()"
   ]
  },
  {
   "cell_type": "code",
   "execution_count": 114,
   "metadata": {},
   "outputs": [
    {
     "name": "stderr",
     "output_type": "stream",
     "text": [
      "/var/folders/dc/q98d65zj19x9pb811hwrr98h0000gp/T/ipykernel_19299/1888700346.py:1: SettingWithCopyWarning: \n",
      "A value is trying to be set on a copy of a slice from a DataFrame.\n",
      "Try using .loc[row_indexer,col_indexer] = value instead\n",
      "\n",
      "See the caveats in the documentation: https://pandas.pydata.org/pandas-docs/stable/user_guide/indexing.html#returning-a-view-versus-a-copy\n",
      "  assistdf['assisted_player'] = assistdf['event_description'].apply(lambda x: x.split(' makes ')[0])\n"
     ]
    }
   ],
   "source": [
    "assistdf['assisted_player'] = assistdf['event_description'].apply(lambda x: x.split(' makes ')[0])"
   ]
  },
  {
   "cell_type": "code",
   "execution_count": 122,
   "metadata": {},
   "outputs": [
    {
     "data": {
      "text/plain": [
       "assisted_player\n",
       "Josh Hart                 148\n",
       "Mikal Bridges             126\n",
       "Eric Paschall             112\n",
       "Donte DiVincenzo          112\n",
       "Kris Jenkins               86\n",
       "Omari Spellman             68\n",
       "Phil Booth                 62\n",
       "Ryan Arcidiacono           48\n",
       "Darryl Reynolds            30\n",
       "Dhamir Cosby-Roundtree     24\n",
       "Daniel Ochefu              22\n",
       "Collin Gillespie           16\n",
       "Name: count, dtype: int64"
      ]
     },
     "execution_count": 122,
     "metadata": {},
     "output_type": "execute_result"
    }
   ],
   "source": [
    "assistdf['assisted_player'].value_counts()"
   ]
  },
  {
   "cell_type": "code",
   "execution_count": 136,
   "metadata": {},
   "outputs": [
    {
     "name": "stderr",
     "output_type": "stream",
     "text": [
      "/var/folders/dc/q98d65zj19x9pb811hwrr98h0000gp/T/ipykernel_19299/809452886.py:6: SettingWithCopyWarning: \n",
      "A value is trying to be set on a copy of a slice from a DataFrame.\n",
      "Try using .loc[row_indexer,col_indexer] = value instead\n",
      "\n",
      "See the caveats in the documentation: https://pandas.pydata.org/pandas-docs/stable/user_guide/indexing.html#returning-a-view-versus-a-copy\n",
      "  assistdf['points_scored'] = assistdf['event_description'].apply(pointsScored)\n"
     ]
    }
   ],
   "source": [
    "def pointsScored(r):\n",
    "    if 'three' in r.lower():\n",
    "        return 3\n",
    "    elif 'two' in r.lower():\n",
    "        return 2\n",
    "assistdf['points_scored'] = assistdf['event_description'].apply(pointsScored)"
   ]
  },
  {
   "cell_type": "code",
   "execution_count": 139,
   "metadata": {},
   "outputs": [
    {
     "data": {
      "text/html": [
       "<div>\n",
       "<style scoped>\n",
       "    .dataframe tbody tr th:only-of-type {\n",
       "        vertical-align: middle;\n",
       "    }\n",
       "\n",
       "    .dataframe tbody tr th {\n",
       "        vertical-align: top;\n",
       "    }\n",
       "\n",
       "    .dataframe thead th {\n",
       "        text-align: right;\n",
       "    }\n",
       "</style>\n",
       "<table border=\"1\" class=\"dataframe\">\n",
       "  <thead>\n",
       "    <tr style=\"text-align: right;\">\n",
       "      <th></th>\n",
       "      <th>count</th>\n",
       "      <th>mean</th>\n",
       "    </tr>\n",
       "    <tr>\n",
       "      <th>assisted_player</th>\n",
       "      <th></th>\n",
       "      <th></th>\n",
       "    </tr>\n",
       "  </thead>\n",
       "  <tbody>\n",
       "    <tr>\n",
       "      <th>Kris Jenkins</th>\n",
       "      <td>86</td>\n",
       "      <td>2.790698</td>\n",
       "    </tr>\n",
       "    <tr>\n",
       "      <th>Collin Gillespie</th>\n",
       "      <td>16</td>\n",
       "      <td>2.750000</td>\n",
       "    </tr>\n",
       "    <tr>\n",
       "      <th>Phil Booth</th>\n",
       "      <td>62</td>\n",
       "      <td>2.741935</td>\n",
       "    </tr>\n",
       "    <tr>\n",
       "      <th>Omari Spellman</th>\n",
       "      <td>68</td>\n",
       "      <td>2.676471</td>\n",
       "    </tr>\n",
       "    <tr>\n",
       "      <th>Ryan Arcidiacono</th>\n",
       "      <td>48</td>\n",
       "      <td>2.666667</td>\n",
       "    </tr>\n",
       "    <tr>\n",
       "      <th>Mikal Bridges</th>\n",
       "      <td>126</td>\n",
       "      <td>2.634921</td>\n",
       "    </tr>\n",
       "    <tr>\n",
       "      <th>Donte DiVincenzo</th>\n",
       "      <td>112</td>\n",
       "      <td>2.517857</td>\n",
       "    </tr>\n",
       "    <tr>\n",
       "      <th>Josh Hart</th>\n",
       "      <td>148</td>\n",
       "      <td>2.513514</td>\n",
       "    </tr>\n",
       "    <tr>\n",
       "      <th>Eric Paschall</th>\n",
       "      <td>112</td>\n",
       "      <td>2.428571</td>\n",
       "    </tr>\n",
       "    <tr>\n",
       "      <th>Daniel Ochefu</th>\n",
       "      <td>22</td>\n",
       "      <td>2.000000</td>\n",
       "    </tr>\n",
       "    <tr>\n",
       "      <th>Darryl Reynolds</th>\n",
       "      <td>30</td>\n",
       "      <td>2.000000</td>\n",
       "    </tr>\n",
       "    <tr>\n",
       "      <th>Dhamir Cosby-Roundtree</th>\n",
       "      <td>24</td>\n",
       "      <td>2.000000</td>\n",
       "    </tr>\n",
       "  </tbody>\n",
       "</table>\n",
       "</div>"
      ],
      "text/plain": [
       "                        count      mean\n",
       "assisted_player                        \n",
       "Kris Jenkins               86  2.790698\n",
       "Collin Gillespie           16  2.750000\n",
       "Phil Booth                 62  2.741935\n",
       "Omari Spellman             68  2.676471\n",
       "Ryan Arcidiacono           48  2.666667\n",
       "Mikal Bridges             126  2.634921\n",
       "Donte DiVincenzo          112  2.517857\n",
       "Josh Hart                 148  2.513514\n",
       "Eric Paschall             112  2.428571\n",
       "Daniel Ochefu              22  2.000000\n",
       "Darryl Reynolds            30  2.000000\n",
       "Dhamir Cosby-Roundtree     24  2.000000"
      ]
     },
     "execution_count": 139,
     "metadata": {},
     "output_type": "execute_result"
    }
   ],
   "source": [
    "assistdf.groupby('assisted_player')['points_scored'].agg(['count','mean']).sort_values(by='mean',ascending=False)"
   ]
  },
  {
   "cell_type": "code",
   "execution_count": 140,
   "metadata": {},
   "outputs": [
    {
     "data": {
      "text/plain": [
       "Index(['Unnamed: 0', 'game_id', 'load_timestamp', 'season', 'status',\n",
       "       'scheduled_date', 'venue_id', 'venue_name', 'venue_city', 'venue_state',\n",
       "       'venue_address', 'venue_zip', 'venue_country', 'venue_capacity',\n",
       "       'attendance', 'neutral_site', 'conference_game', 'tournament',\n",
       "       'tournament_type', 'round', 'game_no', 'away_market', 'away_name',\n",
       "       'away_id', 'away_alias', 'away_conf_name', 'away_conf_alias',\n",
       "       'away_division_name', 'away_division_alias', 'away_league_name',\n",
       "       'home_market', 'home_name', 'home_id', 'home_alias', 'home_conf_name',\n",
       "       'home_conf_alias', 'home_division_name', 'home_division_alias',\n",
       "       'home_league_name', 'period', 'game_clock', 'elapsed_time_sec',\n",
       "       'possession_arrow', 'team_name', 'team_market', 'team_id', 'team_alias',\n",
       "       'team_conf_name', 'team_conf_alias', 'team_division_name',\n",
       "       'team_division_alias', 'team_league_name', 'team_basket',\n",
       "       'possession_team_id', 'player_id', 'player_full_name', 'jersey_num',\n",
       "       'event_id', 'timestamp', 'event_description', 'event_coord_x',\n",
       "       'event_coord_y', 'event_type', 'type', 'shot_made', 'shot_type',\n",
       "       'shot_subtype', 'three_point_shot', 'points_scored', 'turnover_type',\n",
       "       'rebound_type', 'timeout_duration', 'assisted_player'],\n",
       "      dtype='object')"
      ]
     },
     "execution_count": 140,
     "metadata": {},
     "output_type": "execute_result"
    }
   ],
   "source": [
    "assistdf.columns"
   ]
  },
  {
   "cell_type": "code",
   "execution_count": 145,
   "metadata": {},
   "outputs": [
    {
     "data": {
      "text/html": [
       "<div>\n",
       "<style scoped>\n",
       "    .dataframe tbody tr th:only-of-type {\n",
       "        vertical-align: middle;\n",
       "    }\n",
       "\n",
       "    .dataframe tbody tr th {\n",
       "        vertical-align: top;\n",
       "    }\n",
       "\n",
       "    .dataframe thead th {\n",
       "        text-align: right;\n",
       "    }\n",
       "</style>\n",
       "<table border=\"1\" class=\"dataframe\">\n",
       "  <thead>\n",
       "    <tr style=\"text-align: right;\">\n",
       "      <th></th>\n",
       "      <th>assisted_player</th>\n",
       "      <th>season</th>\n",
       "      <th>count</th>\n",
       "    </tr>\n",
       "  </thead>\n",
       "  <tbody>\n",
       "    <tr>\n",
       "      <th>0</th>\n",
       "      <td>Josh Hart</td>\n",
       "      <td>2016</td>\n",
       "      <td>108</td>\n",
       "    </tr>\n",
       "    <tr>\n",
       "      <th>1</th>\n",
       "      <td>Donte DiVincenzo</td>\n",
       "      <td>2017</td>\n",
       "      <td>80</td>\n",
       "    </tr>\n",
       "    <tr>\n",
       "      <th>2</th>\n",
       "      <td>Mikal Bridges</td>\n",
       "      <td>2017</td>\n",
       "      <td>72</td>\n",
       "    </tr>\n",
       "    <tr>\n",
       "      <th>3</th>\n",
       "      <td>Omari Spellman</td>\n",
       "      <td>2017</td>\n",
       "      <td>68</td>\n",
       "    </tr>\n",
       "    <tr>\n",
       "      <th>4</th>\n",
       "      <td>Eric Paschall</td>\n",
       "      <td>2017</td>\n",
       "      <td>62</td>\n",
       "    </tr>\n",
       "    <tr>\n",
       "      <th>5</th>\n",
       "      <td>Eric Paschall</td>\n",
       "      <td>2016</td>\n",
       "      <td>50</td>\n",
       "    </tr>\n",
       "    <tr>\n",
       "      <th>6</th>\n",
       "      <td>Kris Jenkins</td>\n",
       "      <td>2016</td>\n",
       "      <td>48</td>\n",
       "    </tr>\n",
       "    <tr>\n",
       "      <th>7</th>\n",
       "      <td>Ryan Arcidiacono</td>\n",
       "      <td>2015</td>\n",
       "      <td>48</td>\n",
       "    </tr>\n",
       "    <tr>\n",
       "      <th>8</th>\n",
       "      <td>Phil Booth</td>\n",
       "      <td>2017</td>\n",
       "      <td>42</td>\n",
       "    </tr>\n",
       "    <tr>\n",
       "      <th>9</th>\n",
       "      <td>Josh Hart</td>\n",
       "      <td>2015</td>\n",
       "      <td>40</td>\n",
       "    </tr>\n",
       "  </tbody>\n",
       "</table>\n",
       "</div>"
      ],
      "text/plain": [
       "    assisted_player  season  count\n",
       "0         Josh Hart    2016    108\n",
       "1  Donte DiVincenzo    2017     80\n",
       "2     Mikal Bridges    2017     72\n",
       "3    Omari Spellman    2017     68\n",
       "4     Eric Paschall    2017     62\n",
       "5     Eric Paschall    2016     50\n",
       "6      Kris Jenkins    2016     48\n",
       "7  Ryan Arcidiacono    2015     48\n",
       "8        Phil Booth    2017     42\n",
       "9         Josh Hart    2015     40"
      ]
     },
     "execution_count": 145,
     "metadata": {},
     "output_type": "execute_result"
    }
   ],
   "source": [
    "assistdf[['assisted_player','season']].value_counts().reset_index().head(10)"
   ]
  },
  {
   "cell_type": "code",
   "execution_count": 152,
   "metadata": {},
   "outputs": [
    {
     "name": "stdout",
     "output_type": "stream",
     "text": [
      "X limits: (0.0, 600.0)\n",
      "Y limits: (0.0, 564.0)\n"
     ]
    },
    {
     "data": {
      "image/png": "[encoded data removed]",
      "text/plain": [
       "<Figure size 1000x800 with 1 Axes>"
      ]
     },
     "metadata": {},
     "output_type": "display_data"
    }
   ],
   "source": [
    "fig, ax = plt.subplots(figsize=(10, 8))\n",
    "player_ids = pd.Categorical(assistdf['assisted_player']).codes\n",
    "scatter = ax.scatter(assistdf['event_coord_y'], assistdf['event_coord_x'], c=player_ids, cmap='tab20', zorder=5)\n",
    "draw_court(ax)\n",
    "handles, labels = scatter.legend_elements()\n",
    "labels = pd.Categorical(assistdf['assisted_player']).categories  \n",
    "ax.legend(handles, labels)\n",
    "plt.show()"
   ]
  },
  {
   "cell_type": "code",
   "execution_count": 154,
   "metadata": {},
   "outputs": [],
   "source": [
    "fouldf = df[df['event_description'].str.contains('Jalen Brunson draws the foul')]"
   ]
  },
  {
   "cell_type": "code",
   "execution_count": 159,
   "metadata": {},
   "outputs": [
    {
     "data": {
      "text/plain": [
       "0       Sviatoslav Mykhailiuk offensive foul (Jalen Brunson draws the foul)\n",
       "1       Sviatoslav Mykhailiuk offensive foul (Jalen Brunson draws the foul)\n",
       "2       Sviatoslav Mykhailiuk offensive foul (Jalen Brunson draws the foul)\n",
       "5                Lagerald Vick shooting foul (Jalen Brunson draws the foul)\n",
       "6                Lagerald Vick shooting foul (Jalen Brunson draws the foul)\n",
       "                                       ...                                 \n",
       "5088              Jevon Carter personal foul (Jalen Brunson draws the foul)\n",
       "5089             Brice Johnson personal foul (Jalen Brunson draws the foul)\n",
       "5091             Thomas Wilder personal foul (Jalen Brunson draws the foul)\n",
       "5092            Shavar Newkirk personal foul (Jalen Brunson draws the foul)\n",
       "5096              Nigel Holley shooting foul (Jalen Brunson draws the foul)\n",
       "Name: event_description, Length: 505, dtype: object"
      ]
     },
     "execution_count": 159,
     "metadata": {},
     "output_type": "execute_result"
    }
   ],
   "source": [
    "fouldf['event_description']"
   ]
  },
  {
   "cell_type": "code",
   "execution_count": 160,
   "metadata": {},
   "outputs": [
    {
     "name": "stderr",
     "output_type": "stream",
     "text": [
      "/var/folders/dc/q98d65zj19x9pb811hwrr98h0000gp/T/ipykernel_19299/1964146042.py:1: SettingWithCopyWarning: \n",
      "A value is trying to be set on a copy of a slice from a DataFrame.\n",
      "Try using .loc[row_indexer,col_indexer] = value instead\n",
      "\n",
      "See the caveats in the documentation: https://pandas.pydata.org/pandas-docs/stable/user_guide/indexing.html#returning-a-view-versus-a-copy\n",
      "  fouldf['fouling_player'] = fouldf['event_description'].apply(lambda x: f'{x.split(' ')[0]} {x.split(' ')[1]}')\n"
     ]
    }
   ],
   "source": [
    "fouldf['fouling_player'] = fouldf['event_description'].apply(lambda x: f'{x.split(' ')[0]} {x.split(' ')[1]}')"
   ]
  },
  {
   "cell_type": "code",
   "execution_count": 162,
   "metadata": {},
   "outputs": [
    {
     "data": {
      "text/plain": [
       "202"
      ]
     },
     "execution_count": 162,
     "metadata": {},
     "output_type": "execute_result"
    }
   ],
   "source": [
    "fouldf['fouling_player'].nunique()"
   ]
  },
  {
   "cell_type": "code",
   "execution_count": 164,
   "metadata": {},
   "outputs": [
    {
     "data": {
      "text/plain": [
       "fouling_player\n",
       "Kamar Baldwin         11\n",
       "Markus Howard         11\n",
       "Sacar Anim            10\n",
       "Alpha Diallo           9\n",
       "Marcus Foster          8\n",
       "Kyron Cartwright       8\n",
       "Khadeen Carrington     7\n",
       "Andrew Rowsey          7\n",
       "Bashir Ahmed           7\n",
       "Jacob Epperson         6\n",
       "Name: count, dtype: int64"
      ]
     },
     "execution_count": 164,
     "metadata": {},
     "output_type": "execute_result"
    }
   ],
   "source": [
    "fouldf['fouling_player'].value_counts().head(10)"
   ]
  },
  {
   "cell_type": "code",
   "execution_count": 167,
   "metadata": {},
   "outputs": [
    {
     "name": "stderr",
     "output_type": "stream",
     "text": [
      "/var/folders/dc/q98d65zj19x9pb811hwrr98h0000gp/T/ipykernel_19299/1127917970.py:1: SettingWithCopyWarning: \n",
      "A value is trying to be set on a copy of a slice from a DataFrame.\n",
      "Try using .loc[row_indexer,col_indexer] = value instead\n",
      "\n",
      "See the caveats in the documentation: https://pandas.pydata.org/pandas-docs/stable/user_guide/indexing.html#returning-a-view-versus-a-copy\n",
      "  fouldf['foul_type'] = fouldf['event_description'].apply(lambda x: f'{x.split(' ')[2]} {x.split(' ')[3]}')\n"
     ]
    }
   ],
   "source": [
    "fouldf['foul_type'] = fouldf['event_description'].apply(lambda x: f'{x.split(' ')[2]} {x.split(' ')[3]}')"
   ]
  },
  {
   "cell_type": "code",
   "execution_count": 170,
   "metadata": {},
   "outputs": [
    {
     "data": {
      "text/plain": [
       "foul_type\n",
       "personal foul     263\n",
       "shooting foul     159\n",
       "offensive foul     52\n",
       "Name: count, dtype: int64"
      ]
     },
     "execution_count": 170,
     "metadata": {},
     "output_type": "execute_result"
    }
   ],
   "source": [
    "fouldf['foul_type'].value_counts().head(3)"
   ]
  },
  {
   "cell_type": "code",
   "execution_count": 171,
   "metadata": {},
   "outputs": [
    {
     "data": {
      "text/plain": [
       "event_type\n",
       "lineupchange      828\n",
       "assist            618\n",
       "twopointmade      592\n",
       "turnover          513\n",
       "personalfoul      410\n",
       "threepointmade    409\n",
       "freethrowmade     332\n",
       "rebound           282\n",
       "twopointmiss      279\n",
       "shootingfoul      272\n",
       "threepointmiss    270\n",
       "offensivefoul     108\n",
       "freethrowmiss      73\n",
       "attemptblocked     39\n",
       "block              39\n",
       "opentip            26\n",
       "jumpball            6\n",
       "kickball            1\n",
       "Name: count, dtype: int64"
      ]
     },
     "execution_count": 171,
     "metadata": {},
     "output_type": "execute_result"
    }
   ],
   "source": [
    "df['event_type'].value_counts()"
   ]
  },
  {
   "cell_type": "code",
   "execution_count": 176,
   "metadata": {},
   "outputs": [],
   "source": [
    "turnoverdf = df[df['event_description'].str.contains('Jalen Brunson turnover')]"
   ]
  },
  {
   "cell_type": "code",
   "execution_count": 179,
   "metadata": {},
   "outputs": [
    {
     "data": {
      "text/plain": [
       "turnover_type\n",
       "Lost Ball               116\n",
       "Bad Pass                112\n",
       "Traveling                24\n",
       "Out of Bounds             5\n",
       "Carrying                  4\n",
       "Step Out of Bounds        2\n",
       "Back Court Violation      1\n",
       "3-second Violation        1\n",
       "Double Dribble            1\n",
       "10-second Violation       1\n",
       "Name: count, dtype: int64"
      ]
     },
     "execution_count": 179,
     "metadata": {},
     "output_type": "execute_result"
    }
   ],
   "source": [
    "turnoverdf['turnover_type'].value_counts()"
   ]
  },
  {
   "cell_type": "code",
   "execution_count": null,
   "metadata": {},
   "outputs": [],
   "source": []
  }
 ],
 "metadata": {
  "kernelspec": {
   "display_name": "Python 3",
   "language": "python",
   "name": "python3"
  },
  "language_info": {
   "codemirror_mode": {
    "name": "ipython",
    "version": 3
   },
   "file_extension": ".py",
   "mimetype": "text/x-python",
   "name": "python",
   "nbconvert_exporter": "python",
   "pygments_lexer": "ipython3",
   "version": "3.13.0"
  }
 },
 "nbformat": 4,
 "nbformat_minor": 2
}
